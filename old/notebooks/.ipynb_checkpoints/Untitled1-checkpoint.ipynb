{
 "cells": [
  {
   "cell_type": "code",
   "execution_count": null,
   "id": "ce274e40-986d-4e11-b323-f5e009531c2c",
   "metadata": {},
   "outputs": [],
   "source": [
    "import os\n",
    "import subprocess\n",
    "\n",
    "potcar_dir = \"/global/homes/a/aladera/workspace/INOLONGERSMOKEPOT/potpaw_PBE/\"\n",
    "potcar_dir = \"/Users/adrianaladera/Desktop/MIT/research/POTCARS_PBE.54/\" #local\n",
    "#poscar_dir = input(\"Type the dir for the POSCAR: \")\n",
    "poscar_dir = os.getcwd()\n",
    "file = input(\"Input file: \")\n",
    "\n",
    "with open(\"{}/{}\".format(poscar_dir, file)) as f:\n",
    "    lines = f.readlines()\n",
    "\n",
    "    command = \"cat \"\n",
    "    # print(lines[7].split()[2])\n",
    "    for atom in lines[5].split():\n",
    "        print(atom)\n",
    "        command += \"{}{}/POTCAR \".format(potcar_dir, atom)\n",
    "    command += \"> {}/POTCAR\".format(poscar_dir)\n",
    "    print(command)\n",
    "    subprocess.call(command, shell=True)"
   ]
  }
 ],
 "metadata": {
  "kernelspec": {
   "display_name": "myenv-jupyter",
   "language": "python",
   "name": "myenv-jupyter"
  },
  "language_info": {
   "codemirror_mode": {
    "name": "ipython",
    "version": 3
   },
   "file_extension": ".py",
   "mimetype": "text/x-python",
   "name": "python",
   "nbconvert_exporter": "python",
   "pygments_lexer": "ipython3",
   "version": "3.11.5"
  }
 },
 "nbformat": 4,
 "nbformat_minor": 5
}
