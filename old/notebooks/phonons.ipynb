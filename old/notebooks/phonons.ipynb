{
 "cells": [
  {
   "cell_type": "code",
   "execution_count": 1,
   "id": "192c351a-b828-4ee4-955c-6e2321ae7c6f",
   "metadata": {
    "tags": []
   },
   "outputs": [],
   "source": [
    "import subprocess as sp\n",
    "import os"
   ]
  },
  {
   "cell_type": "markdown",
   "id": "b1abeba1-5672-44b1-9720-13f265e9d4ce",
   "metadata": {},
   "source": [
    "## Copy files from relaxed structure to phonons directory"
   ]
  },
  {
   "cell_type": "code",
   "execution_count": 2,
   "id": "4625ab96-710e-4299-aa5a-1df47220531e",
   "metadata": {
    "tags": []
   },
   "outputs": [],
   "source": [
    "mocha_paths = [(\"2D-AgSe-benzene_MITHRENE\",\"AgSe-benzene/2D-AgSe-benzene_MITHRENE/H-only-relax/scf\"),\n",
    "               (\"2D-AgS-benzene_THIORENE\",\"AgS-benzene/2D-AgS-benzene_THIORENE/H-only-relax/scf\"),\n",
    "               (\"1D-AgS-benzene_3methoxy-I\",\"AgS-benzene/1D-AgS-benzene_3methoxy-I/3ISIF/scf\"),\n",
    "               (\"1D-AgSe-benzene_3methoxy-I\",\"AgSe-benzene/1D-AgSe-benzene_3methoxy-I/3ISIF/scf\"),\n",
    "               (\"1D-AgS-aniline_3methoxy-I\",\"AgS-aniline/1D-AgS-aniline_3methoxy-I/3ISIF/scf\")\n",
    "              ]\n",
    "\n",
    "# running: 2D-AgS-benzene_THIORENE\n",
    "mocha = mocha_paths[4]\n",
    "mocha_root = f\"/pscratch/sd/a/aladera/projects/varying_inorganics\"\n",
    "phonon_root = \"/pscratch/sd/a/aladera/projects/phonons\"\n",
    "if not os.path.isdir(f\"{phonon_root}/{mocha[0]}\"):\n",
    "    os.mkdir(f\"{phonon_root}/{mocha[0]}\")\n",
    "os.chdir(f\"{mocha_root}/{mocha[1]}\")\n",
    "sp.run(f\"cp CONTCAR POTCAR KPOINTS {phonon_root}/{mocha[0]}\", shell=True)\n",
    "os.chdir(f\"{phonon_root}/{mocha[0]}/\")\n",
    "sp.run(\"mv CONTCAR POSCAR\", shell=True)\n",
    "sp.run(\"cp /global/homes/a/aladera/workspace/VASP/incars/phonons ./INCAR\", shell=True)\n",
    "\n",
    "with open(\"run.slurm\", 'w') as f:\n",
    "    # f.write(\"balls\")\n",
    "    f.write(f\"#!/bin/bash\\n#SBATCH -N 1\\n#SBATCH -c 128\\n#SBATCH -C cpu\\n#SBATCH -q regular\\n#SBATCH -t 24:00:00\\n#SBATCH -J P-{mocha[0]}\\n#SBATCH -o job.out\\n#SBATCH -e job.err\\n\\nmodule load vasp/6.4.1-cpu\\nsrun vasp_std\\n\")\n",
    "    f.close()"
   ]
  },
  {
   "cell_type": "markdown",
   "id": "43341f0a-b33c-495b-a383-8e4d948f499e",
   "metadata": {},
   "source": [
    "## Run the following in NERSC terminal because this Jupyter bitch refuses to load command line phonopy for whatever fucking reason\n",
    "\n",
    "module load conda && conda activate crystal_gen && phonopy -d --dim=\"1 1 1\"\n",
    "- for this last command, choose dimensions that would create a supercell of your unit cell. You can choose dim=1 for lattice vectors that are quite long. Remember that the KPOINTS file must be the same as your --dim parameters for larger supercells.\n",
    "\n",
    "\n",
    "## Make directories for each phonon mode and submit to queue"
   ]
  },
  {
   "cell_type": "code",
   "execution_count": 6,
   "id": "0325a059-f53f-480d-b06c-3bda6868aad4",
   "metadata": {
    "tags": []
   },
   "outputs": [],
   "source": [
    "for file in os.listdir():\n",
    "    if \"POSCAR-\" in file:\n",
    "        # print(file[-3:])\n",
    "        os.mkdir(f\"ph-{file[-3:]}\")\n",
    "        sp.run(f\"mv {file} ph-{file[-3:]}/POSCAR\", shell=True)\n",
    "        sp.run(f\"cp INCAR POTCAR KPOINTS run.slurm ph-{file[-3:]}\", shell=True)"
   ]
  },
  {
   "cell_type": "code",
   "execution_count": 5,
   "id": "d4dded98-534c-4ed7-b751-4d09d13d400d",
   "metadata": {
    "tags": []
   },
   "outputs": [],
   "source": [
    "for dirk in os.listdir():\n",
    "    sp.run(f\"cp INCAR ph-{dirk[-3:]}\", shell=True)\n",
    "    # if \"ph-\" in dirk and int(dirk[-3:]) < 3:\n",
    "        # sp.run(f\"cp INCAR ph-{dirk[-3:]}\", shell=True)\n",
    "        # print(dirk)"
   ]
  },
  {
   "cell_type": "code",
   "execution_count": 8,
   "id": "b4f1ff5b-7d13-4d2d-831f-1379dd39646d",
   "metadata": {
    "tags": []
   },
   "outputs": [
    {
     "name": "stdout",
     "output_type": "stream",
     "text": [
      "Submitted batch job 29043985\n",
      "ph-007\n",
      "Submitted batch job 29043987\n",
      "ph-006\n",
      "Submitted batch job 29043989\n",
      "ph-009\n",
      "Submitted batch job 29043990\n",
      "ph-008\n",
      "Submitted batch job 29043992\n",
      "ph-004\n",
      "Submitted batch job 29043993\n",
      "ph-005\n"
     ]
    },
    {
     "ename": "ValueError",
     "evalue": "invalid literal for int() with base 10: 'CAR'",
     "output_type": "error",
     "traceback": [
      "\u001b[0;31m---------------------------------------------------------------------------\u001b[0m",
      "\u001b[0;31mValueError\u001b[0m                                Traceback (most recent call last)",
      "Cell \u001b[0;32mIn[8], line 3\u001b[0m\n\u001b[1;32m      1\u001b[0m \u001b[38;5;28;01mfor\u001b[39;00m dirk \u001b[38;5;129;01min\u001b[39;00m os\u001b[38;5;241m.\u001b[39mlistdir():\n\u001b[1;32m      2\u001b[0m     \u001b[38;5;66;03m# print(dirk)\u001b[39;00m\n\u001b[0;32m----> 3\u001b[0m     \u001b[38;5;28;01mif\u001b[39;00m \u001b[38;5;124m\"\u001b[39m\u001b[38;5;124mph-\u001b[39m\u001b[38;5;124m\"\u001b[39m \u001b[38;5;129;01min\u001b[39;00m dirk \u001b[38;5;129;01mand\u001b[39;00m \u001b[38;5;28mint\u001b[39m(dirk[\u001b[38;5;241m-\u001b[39m\u001b[38;5;241m3\u001b[39m:]) \u001b[38;5;241m!=\u001b[39m \u001b[38;5;241m3\u001b[39m \u001b[38;5;129;01mand\u001b[39;00m \u001b[38;5;28mint\u001b[39m(dirk[\u001b[38;5;241m-\u001b[39m\u001b[38;5;241m3\u001b[39m:]) \u001b[38;5;241m<\u001b[39m \u001b[38;5;241m10\u001b[39m:\n\u001b[1;32m      4\u001b[0m         os\u001b[38;5;241m.\u001b[39mchdir(dirk)\n\u001b[1;32m      5\u001b[0m         sp\u001b[38;5;241m.\u001b[39mrun(\u001b[38;5;124m\"\u001b[39m\u001b[38;5;124msbatch run.slurm\u001b[39m\u001b[38;5;124m\"\u001b[39m, shell\u001b[38;5;241m=\u001b[39m\u001b[38;5;28;01mTrue\u001b[39;00m)\n",
      "\u001b[0;31mValueError\u001b[0m: invalid literal for int() with base 10: 'CAR'"
     ]
    }
   ],
   "source": [
    "for dirk in os.listdir():\n",
    "    # print(dirk)\n",
    "    # make a condition so that the directory exists [7,6,9,8,5,4 (1,2n)]\n",
    "    if \"ph-\" in dirk and int(dirk[-3:]) != 3 and int(dirk[-3:]) < 10:\n",
    "        os.chdir(dirk)\n",
    "        sp.run(\"sbatch run.slurm\", shell=True)\n",
    "        os.chdir(\"../\")\n",
    "        print(dirk)"
   ]
  },
  {
   "cell_type": "markdown",
   "id": "22cb1c40-1a2d-4575-a654-905547c065bf",
   "metadata": {},
   "source": [
    "### Create FORCE_SETS\n",
    "\n",
    "phonopy -f ph-{001..630}/vasprun.xml"
   ]
  },
  {
   "cell_type": "code",
   "execution_count": null,
   "id": "bff69d96-bbfd-4ced-8cfe-ebb4b9d946c2",
   "metadata": {},
   "outputs": [],
   "source": [
    "from phonopy import Phonopy as phon #heat capacity, entropy, etc\n",
    "import phonopy"
   ]
  },
  {
   "cell_type": "code",
   "execution_count": 10,
   "id": "7f9b6a46-ad1a-4d26-85bb-ef255b9561e1",
   "metadata": {},
   "outputs": [],
   "source": [
    "phonon = phonopy.load(supercell_filename=\"SPOSCAR\")"
   ]
  },
  {
   "cell_type": "code",
   "execution_count": 11,
   "id": "6e9cdb4f-6a28-4e6e-8400-896255fb0e8c",
   "metadata": {
    "tags": []
   },
   "outputs": [],
   "source": [
    "phonon.run_mesh([20, 20, 20], with_eigenvectors=True, is_mesh_symmetry=False)\n",
    "phonon.run_projected_dos()\n",
    "phonon.plot_projected_dos().show()"
   ]
  },
  {
   "cell_type": "code",
   "execution_count": 17,
   "id": "b47d7b85-2e0a-4a00-955f-c646bcb7c895",
   "metadata": {
    "tags": []
   },
   "outputs": [
    {
     "data": {
      "image/png": "[encoded data removed]",
      "text/plain": [
       "<Figure size 640x480 with 8 Axes>"
      ]
     },
     "metadata": {},
     "output_type": "display_data"
    }
   ],
   "source": [
    "phonon.auto_band_structure(plot=True).show() "
   ]
  },
  {
   "cell_type": "code",
   "execution_count": null,
   "id": "2b43ff3a-a31f-407f-88a3-065fb19aa246",
   "metadata": {},
   "outputs": [],
   "source": [
    "ph.auto_band_structure(pl"
   ]
  },
  {
   "cell_type": "code",
   "execution_count": null,
   "id": "141899c5-84fd-4ed7-8806-fa854db2ef9b",
   "metadata": {},
   "outputs": [],
   "source": []
  }
 ],
 "metadata": {
  "kernelspec": {
   "display_name": "MyEnvironment",
   "language": "python",
   "name": "env"
  },
  "language_info": {
   "codemirror_mode": {
    "name": "ipython",
    "version": 3
   },
   "file_extension": ".py",
   "mimetype": "text/x-python",
   "name": "python",
   "nbconvert_exporter": "python",
   "pygments_lexer": "ipython3",
   "version": "3.11.5"
  }
 },
 "nbformat": 4,
 "nbformat_minor": 5
}
