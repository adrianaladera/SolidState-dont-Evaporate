{
 "cells": [
  {
   "cell_type": "markdown",
   "metadata": {},
   "source": [
    "## Importing libraries and shihh"
   ]
  },
  {
   "cell_type": "code",
   "execution_count": 1,
   "metadata": {},
   "outputs": [],
   "source": [
    "from ase.io import read, write\n",
    "from ase.build.molecule import molecule\n",
    "from ase.io import write\n",
    "import matplotlib.pyplot as plt\n",
    "from ase.visualize.plot import plot_atoms\n",
    "import os\n",
    "import math\n",
    "import numpy as np\n",
    "from ase import Atoms\n",
    "from pymatgen.core.lattice import Lattice\n",
    "from pymatgen.core import Structure\n",
    "from pymatgen.io.vasp.inputs import Poscar\n",
    "from pymatgen.core.structure import Structure\n",
    "import subprocess as sp\n",
    "import ase.geometry\n",
    "#from modify_structure import *"
   ]
  },
  {
   "cell_type": "markdown",
   "metadata": {},
   "source": [
    "## Creating color-to-species (and vice versa) dictionaries to convert between POSCAR and Rhino and bacK"
   ]
  },
  {
   "cell_type": "code",
   "execution_count": 3,
   "metadata": {},
   "outputs": [
    {
     "name": "stdout",
     "output_type": "stream",
     "text": [
      "{'192.192.192': 'Ag', '210.178.221': 'Hg', '151.136.72': 'Te', '255.255.51': 'S', '57.255.20': 'Se', '102.0.0': 'C', '102.255.255': 'N', '255.204.204': 'H', '255.0.0': 'O', '130.197.243': 'F', '255.255.255': 'origin', '0.0.0': 'point'}\n"
     ]
    }
   ],
   "source": [
    "# for POSCAR to Rhino\n",
    "elements_to_rgb = {'Ag':[192,192,192], 'Hg':[210, 178, 221], \n",
    "                   'Te':[151, 136, 72], 'S':[255,255,51], 'Se':[57, 255, 20],\n",
    "           'C':[102,0,0], 'N':[102,255,255], 'H':[255,204,204], 'O':[255,0,0], 'F':[130,197,243], \n",
    "           'origin':[255,255,255], 'point':[0,0,0]}\n",
    "# for Rhino to POSCAR\n",
    "rgb_to_elements = {}\n",
    "for s in elements_to_rgb:\n",
    "    rgb = elements_to_rgb[s]\n",
    "    rgb_to_elements[f\"{rgb[0]}.{rgb[1]}.{rgb[2]}\"] = s\n",
    "    \n",
    "print(rgb_to_elements)\n",
    "\n",
    "def angle_between_vectors(u, v):\n",
    "    dot_product = sum(i*j for i, j in zip(u, v))\n",
    "    norm_u = math.sqrt(sum(i**2 for i in u))\n",
    "    norm_v = math.sqrt(sum(i**2 for i in v))\n",
    "    cos_theta = dot_product / (norm_u * norm_v)\n",
    "    angle_rad = math.acos(cos_theta)\n",
    "    angle_deg = math.degrees(angle_rad)\n",
    "\n",
    "    return angle_deg"
   ]
  },
  {
   "attachments": {},
   "cell_type": "markdown",
   "metadata": {},
   "source": [
    "## Convert POSCAR to points file for Rhino\n",
    "-**poscar_to_xyz_rgb()**:\n",
    "    Converts a VASP file into a .xyz readable points file for Rhino, with elements\n",
    "        mapped to RGB values\n",
    "- **species_to_rgb()**: helper function for mapping POSCAR species into Rhino readable RGB values"
   ]
  },
  {
   "cell_type": "code",
   "execution_count": 18,
   "metadata": {},
   "outputs": [
    {
     "name": "stdout",
     "output_type": "stream",
     "text": [
      "\n",
      "Converted POSCAR to XYZRGB points file\n",
      "Written to: \n",
      "/Users/adrianaladera/Desktop/MIT/research/mochas/ALL_STRUCTURES/3-amino_AgS-anilines/dimethyl_1D/tert-butyl_dimethyl_1D/tert-butyl_dimethyl_1D_rhino.xyz\n"
     ]
    }
   ],
   "source": [
    "def poscar_to_xyz_rgb(path, filename, extension):\n",
    "    '''Converts a VASP file into a .xyz readable points file for Rhino, with elements\n",
    "        mapped to RGB values\n",
    "        \n",
    "        - path: the path to the POSCAR\n",
    "        - filename: name of the file to be converted(without the extension)\n",
    "        - extension: .vasp or '' if POSCAR'''\n",
    "    poscar = Structure.from_file(f\"{path}{filename}{extension}\")\n",
    "    run = True\n",
    "    while run:\n",
    "        if os.path.exists(f\"{path}{filename}_rhino.xyz\"):\n",
    "            sp.run(f\"rm {path}{filename}_rhino.xyz\", shell=True)\n",
    "            print(\"\\nFile already exists. Rewriting now...\")\n",
    "            \n",
    "        with open(f\"{path}{filename}_rhino.xyz\", 'a') as f:\n",
    "            for i in poscar.as_dict()['sites']:\n",
    "                colors = species_to_rgb(str(i['species'][0]['element']))\n",
    "                lines = [f\"{i['xyz'][0]} {i['xyz'][1]} {i['xyz'][2]} {colors[0]} {colors[1]} {colors[2]}\\n\"]\n",
    "                f.writelines(lines)\n",
    "            f.close()\n",
    "            print(\"\\nConverted POSCAR to XYZRGB points file\")\n",
    "            print(f\"Written to: \\n{path}{filename}_rhino.xyz\")\n",
    "            run = False\n",
    "        \n",
    "def species_to_rgb(species, rgb=elements_to_rgb):\n",
    "    return rgb[species]\n",
    "\n",
    "def remove_dupes(structure):\n",
    "    print(f\"Total: {len(structure)}\")\n",
    "    new_struct = ase.geometry.get_duplicate_atoms(structure, cutoff=0.2, delete=True)\n",
    "    new_struct = ase.geometry.get_duplicate_atoms(structure, cutoff=0.2, delete=False)\n",
    "    print(f\"Total with duplicates removed: {len(new_struct)}\")\n",
    "\n",
    "    return structure\n",
    "\n",
    "# make sure name of file has same name as folder path\n",
    "mocha = \"tert-butyl_dimethyl_1D\"\n",
    "path = f\"/Users/adrianaladera/Desktop/MIT/research/mochas/ALL_STRUCTURES/3-amino_AgS-anilines/dimethyl_1D/{mocha}/\"\n",
    "# path = \"/Users/adrianaladera/Desktop/MIT/research/rhino_structure_design/mochas/\"\n",
    "file = mocha\n",
    "extension = \".vasp\"\n",
    "poscar_to_xyz_rgb(path, file, extension)"
   ]
  },
  {
   "attachments": {},
   "cell_type": "markdown",
   "metadata": {},
   "source": [
    "## Convert Rhino points file to POSCAR.vasp\n",
    "\n",
    "### Save finished Rhino points file in the rhino_structure_design folder\n",
    "\n",
    "- **xyz_rgb_to_poscar()**: Converts a Rhino .txt readable points back into an .xyz file, with RGB values\n",
    "        mapped to back to elements\n",
    "- **modify_lattice():**\n",
    "    Updates the unit cell of the current .xyz file and saves in .vasp format\n",
    "- **rgb_to_species()**:\n",
    "    '''Converts rgb values of Rhino points into POSCAR readable species"
   ]
  },
  {
   "cell_type": "code",
   "execution_count": 20,
   "metadata": {},
   "outputs": [
    {
     "name": "stdout",
     "output_type": "stream",
     "text": [
      "\n",
      "File already exists. Rewriting now...\n",
      "Converting text file to XYZ readable molecule file\n",
      "Written to /Users/adrianaladera/Desktop/MIT/research/mochas/ALL_STRUCTURES/3-amino_AgS-anilines/dimethyl_1D/2-methoxy_dimethyl_1D/2-methoxy_dimethyl_1D_FINAL.xyz\n",
      "[[-2.668638107417006, -4.442564872901379, -3.460172074600912], [11.36642156862756, 13.5180717070553, -3.409292084289355], [11.36642156862756, 5.977813328692804, 35.17178970202328], [11.36642156862756, -4.442564872901379, -3.460172074600912]]\n",
      "Total: 168\n",
      "Total with duplicates removed: 0\n",
      "<class 'ase.atoms.Atoms'> <class 'ase.atoms.Atoms'>\n",
      "Updating unit cell of 2-methoxy_dimethyl_1D_FINAL.xyz and writing to *.vasp\n",
      "\n",
      "Written to:\n",
      "\n",
      "/Users/adrianaladera/Desktop/MIT/research/mochas/ALL_STRUCTURES/3-amino_AgS-anilines/dimethyl_1D/2-methoxy_dimethyl_1D/2-methoxy_dimethyl_1D_FINAL.vasp\n"
     ]
    }
   ],
   "source": [
    "def xyz_rgb_to_poscar(path, dest, filename, extension):\n",
    "    '''Converts a Rhino .txt readable points back into an .xyz file, with RGB values\n",
    "        mapped to back to elements\n",
    "        \n",
    "        - path: the path to .txt file\n",
    "        - dest: where the final converted file will be saved\n",
    "        - filename: name of the file to be converted(without the extension)\n",
    "        - extension: .txt'''\n",
    "    run = True\n",
    "    flag = 0\n",
    "    lattice_points = []\n",
    "    lattice_origin = None\n",
    "    while run:\n",
    "        if not os.path.exists(f\"{dest}{filename}_FINAL.xyz\") or flag == 1:\n",
    "            with open(f\"{path}{filename}{extension}\", 'r') as f:\n",
    "                with open(f\"{dest}{filename}_FINAL.xyz\", 'w') as fuck:\n",
    "                    lines = f.readlines()\n",
    "                    # Ag, S, C, H, N = [],[],[],[],[]\n",
    "                    species_dict, species_list = {},{}\n",
    "                    for i in lines:\n",
    "                        i = i.strip('\\n')\n",
    "                        species = rgb_to_species([int(i.split(',')[3]), int(i.split(',')[4]), int(i.split(',')[5])])\n",
    "                        if species not in species_dict.keys() and species != \"origin\" and species != \"point\":\n",
    "                            species_dict[species] = f\"{int(i.split(',')[3])} {int(i.split(',')[4])} {int(i.split(',')[5])}\"\n",
    "                            species_list[species] = []\n",
    "                    for i in lines:\n",
    "                        i = i.strip('\\n')\n",
    "                        species = rgb_to_species([int(i.split(',')[3]), int(i.split(',')[4]), int(i.split(',')[5])])\n",
    "                        if species != \"origin\" and species != \"point\":\n",
    "                            species_list[species].append([float(i.split(',')[0]), float(i.split(',')[1]),float(i.split(',')[2])])\n",
    "                        elif species == \"point\":\n",
    "                            lattice_points.append([float(i.split(',')[0]), float(i.split(',')[1]),float(i.split(',')[2])])\n",
    "                        elif species == \"origin\":\n",
    "                            lattice_origin = [float(i.split(',')[0]), float(i.split(',')[1]),float(i.split(',')[2])]\n",
    "                    s, s2 = '', ''\n",
    "                    s += f\"{sum([len(species_list[spec]) for spec in species_list])}\\n\"\n",
    "                    for spec in species_list:\n",
    "                        s += f\"{spec}{len(species_list[spec])} \"\n",
    "                        for a in species_list[spec]:\n",
    "                            s2 += f\"{spec} {a[0]} {a[1]} {a[2]}\\n\"\n",
    "                    s += '\\n' + s2\n",
    "                    fuck.write(s)\n",
    "            print(\"Converting text file to XYZ readable molecule file\")\n",
    "            print(f\"Written to {dest}{filename}_FINAL.xyz\")\n",
    "            run = False\n",
    "            fuck.close()\n",
    "        else:\n",
    "            sp.run(f\"rm {dest}{filename}_FINAL.xyz\", shell=True)\n",
    "            print(\"\\nFile already exists. Rewriting now...\")\n",
    "            run = True\n",
    "            flag = 1\n",
    "\n",
    "    lattice_points.append(lattice_origin)\n",
    "    print(lattice_points)\n",
    "    return lattice_points\n",
    "\n",
    "def modify_lattice(path, dest, file, lattice_points, lattice_path=None):\n",
    "    '''Updates the unit cell of the current .xyz file and saves in .vasp format\n",
    "    \n",
    "        - path: the path to the POSCAR\n",
    "        - dest: where the final converted file will be saved\n",
    "        - file: name of the .xyz file to be converted\n",
    "        - lattice_path: path to the POSCAR of the desired lattice matrix, \n",
    "                        leave as '' if entering a, b, c, alpha, beta, gamma'''\n",
    "    if os.path.exists(f'{path}{file}'):\n",
    "        old_struct = read(f'{path}{file}') \n",
    "        mocha = remove_dupes(old_struct)\n",
    "        print(type(old_struct), type(mocha))\n",
    "        \n",
    "        if lattice_path is None:\n",
    "            # x = input(\"\\Enter a, b, c, alpha, beta, gamma: \")\n",
    "            # p = [float(i) for i in x.strip().split()]\n",
    "            # long_lattice = Lattice.from_parameters(p[0],p[1],p[2],p[3],p[4],p[5]) \n",
    "            matrix = np.array(lattice_points)\n",
    "\n",
    "            new_lattice = Lattice(np.array([matrix[0] - matrix[3],\n",
    "                                            matrix[1] - matrix[3],\n",
    "                                            matrix[2] - matrix[3],]))\n",
    "            mocha.set_cell(new_lattice.matrix)  \n",
    "        else:\n",
    "            lats = Structure.from_file(lattice_path)\n",
    "            mocha.set_cell(lats.lattice.matrix)\n",
    "        \n",
    "        write(f\"{dest}{file[:-4]}.vasp\", mocha)\n",
    "        print(f\"Updating unit cell of {file} and writing to *.vasp\\n\")\n",
    "        print(f\"Written to:\\n\\n{dest}{file[:-4]}.vasp\")\n",
    "              \n",
    "def rgb_to_species(rgb_vals, rgb = rgb_to_elements):\n",
    "    '''Converts rgb values of Rhino points into POSCAR readable species'''\n",
    "    key = f\"{rgb_vals[0]}.{rgb_vals[1]}.{rgb_vals[2]}\"\n",
    "    return rgb[key]\n",
    "\n",
    "# path =  \"/Users/adrianaladera/Desktop/MIT/research/rhino_structure_design/mochas/\"\n",
    "# lattice_path = \"/Users/adrianaladera/Desktop/MIT/research/MOChAs/original_structures/3-methoxy/POSCAR\"\n",
    "# xyz_rgb_to_poscar(path, path, 'DEMO', '.txt')\n",
    "# write_path = modify_lattice(path, path, \"DEMO.xyz\", lattice_path)\n",
    "\n",
    "file = \"2-methoxy_dimethyl_1D\"\n",
    "path = \"/Users/adrianaladera/Desktop/MIT/research/rhino_structure_design/mochas/\"\n",
    "dest = f\"/Users/adrianaladera/Desktop/MIT/research/mochas/ALL_STRUCTURES/3-amino_AgS-anilines/dimethyl_1D/{file}/\"\n",
    "lattice_path = f\"{dest}{file}.vasp\" # leave as '' if entering a,b,c,alpha,beta,gamma\n",
    "extension = \".txt\"\n",
    "lattice_points = xyz_rgb_to_poscar(path, dest, file, extension)\n",
    "write_path = modify_lattice(dest, dest, f\"{file}_FINAL.xyz\", lattice_points)\n"
   ]
  },
  {
   "cell_type": "code",
   "execution_count": 6,
   "metadata": {},
   "outputs": [
    {
     "name": "stdout",
     "output_type": "stream",
     "text": [
      "[-1  0 -1]\n"
     ]
    }
   ],
   "source": [
    "a = np.array([1,0,0])\n",
    "b = np.array([2,0,1])\n",
    "\n",
    "print(a-b)"
   ]
  },
  {
   "cell_type": "code",
   "execution_count": null,
   "metadata": {},
   "outputs": [],
   "source": []
  }
 ],
 "metadata": {
  "kernelspec": {
   "display_name": "deeznuts",
   "language": "python",
   "name": "python3"
  },
  "language_info": {
   "codemirror_mode": {
    "name": "ipython",
    "version": 3
   },
   "file_extension": ".py",
   "mimetype": "text/x-python",
   "name": "python",
   "nbconvert_exporter": "python",
   "pygments_lexer": "ipython3",
   "version": "3.11.6"
  }
 },
 "nbformat": 4,
 "nbformat_minor": 4
}
