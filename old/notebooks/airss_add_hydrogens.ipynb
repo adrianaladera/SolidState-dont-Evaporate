{
 "cells": [
  {
   "cell_type": "code",
   "execution_count": 33,
   "metadata": {},
   "outputs": [],
   "source": [
    "from ase.io import read, write\n",
    "from ase.visualize import view\n",
    "from ase.build.molecule import molecule\n",
    "from ase.io import write\n",
    "from ase.io.pov import get_bondpairs, set_high_bondorder_pairs\n",
    "import matplotlib.pyplot as plt\n",
    "from ase.visualize.plot import plot_atoms\n",
    "import numpy as np\n",
    "from ase import Atoms\n",
    "\n",
    "# distance in Angstrom between the given chalcogen and a hydrogen\n",
    "chalcogen_hydrogen_distances = {'Se': 1.46, 'S': 1.3, 'Te': 1.68}"
   ]
  },
  {
   "attachments": {},
   "cell_type": "markdown",
   "metadata": {},
   "source": [
    "## Functions"
   ]
  },
  {
   "cell_type": "code",
   "execution_count": 90,
   "metadata": {},
   "outputs": [],
   "source": [
    "def get_scaled_vector(base_point, vector, scale):\n",
    "    \"\"\"\n",
    "    Plot a point at the end of a scaled vector in 3D space.\n",
    "\n",
    "    Parameters:\n",
    "    - base_point: The starting point of the vector (a tuple or list of x, y, z).\n",
    "    - vector: The direction of the vector (a tuple or list of x, y, z).\n",
    "    - scale: The scaling factor for the vector length.\n",
    "    \"\"\"\n",
    "    # Convert base_point and vector to NumPy arrays\n",
    "    base_point = np.array(base_point)\n",
    "\n",
    "    #normalize the vector\n",
    "    vector = np.array(vector)\n",
    "    unit_vector = vector / np.linalg.norm(vector)\n",
    "    \n",
    "    # Scale the vector\n",
    "    scaled_vector = scale * unit_vector\n",
    "    \n",
    "    # Calculate the end point of the scaled vector\n",
    "    end_point = base_point + scaled_vector\n",
    "\n",
    "    return end_point\n",
    "\n",
    "import numpy as np\n",
    "\n",
    "import numpy as np\n",
    "\n",
    "def vector_from_points(point1, point2):\n",
    "    \"\"\"\n",
    "    Returns the vector from point1 to point2.\n",
    "    \n",
    "    Parameters:\n",
    "    point1 (array-like): Coordinates of the first point.\n",
    "    point2 (array-like): Coordinates of the second point.\n",
    "    \n",
    "    Returns:\n",
    "    numpy.ndarray: The vector from point1 to point2.\n",
    "    \"\"\"\n",
    "    # Convert points to numpy arrays\n",
    "    point1 = np.array(point1)\n",
    "    point2 = np.array(point2)\n",
    "    \n",
    "    # Calculate the vector from point1 to point2\n",
    "    vector = point2 - point1\n",
    "    \n",
    "    return vector\n",
    "\n",
    "def get_neighbors(vectors, cutoff):\n",
    "    return np.array([v for v in vectors if np.linalg.norm(v) <= cutoff])\n",
    "\n",
    "\n"
   ]
  },
  {
   "attachments": {},
   "cell_type": "markdown",
   "metadata": {},
   "source": [
    "## Trying again but this time with average vector"
   ]
  },
  {
   "cell_type": "code",
   "execution_count": 140,
   "metadata": {},
   "outputs": [
    {
     "name": "stdout",
     "output_type": "stream",
     "text": [
      "[ 7.28999996  5.87900019 28.0720005  90.         93.80000305 90.        ]\n",
      "5.8790001869\n",
      "[3.67453693 1.15816304 1.20164115]\n",
      "[ 2.74431564  4.72083697 15.2067836 ]\n",
      "[0.02953694 4.09766331 1.20164115]\n",
      "[-0.90068434  1.78133706 15.2067836 ]\n",
      "[ 1.80493429  3.99772019 26.82544852]\n",
      "[ 2.73515552  1.88128    12.82030691]\n",
      "[ 5.44993406  1.05822009 26.82544852]\n",
      "[ 6.38015528  4.82078009 12.82030691]\n",
      "Written to /Users/adrianaladera/Desktop/MIT/research/mochas/ALL_STRUCTURES/airss_practice/inorganic2_FINAL.vasp\n"
     ]
    },
    {
     "name": "stderr",
     "output_type": "stream",
     "text": [
      "/Users/adrianaladera/opt/anaconda3/envs/deeznuts/lib/python3.11/site-packages/ase/utils/__init__.py:62: FutureWarning: Please use atoms.cell.cellpar() instead\n",
      "  warnings.warn(warning)\n"
     ]
    }
   ],
   "source": [
    "def add_hydrogens(inorganic, filename, plot_structure=True): \n",
    "    visited, chalc_pos, hydrogen_pos , vectors = [], [], [], []\n",
    "    chalcogen = ''\n",
    "\n",
    "    cutoff = min(inorganic.get_cell_lengths_and_angles()[:4])\n",
    "    print(cutoff)\n",
    "\n",
    "    # collecting the positions of the chalcogens\n",
    "    for atom, pos in zip(inorganic.get_chemical_symbols(), inorganic.get_positions()):\n",
    "        if str(atom) in chalcogen_hydrogen_distances.keys():\n",
    "            chalc_pos.append(pos)\n",
    "            chalcogen = str(atom)\n",
    "\n",
    "    for point in chalc_pos: # going through chalcogens\n",
    "        print(point)\n",
    "        if point.tolist() not in visited: \n",
    "            vectors = [vector_from_points(point, p) for p in inorganic.get_positions()]\n",
    "\n",
    "            # get a vector from the visited chalcogen to the neighbors within a certain cutoff\n",
    "            neighbor_vectors = get_neighbors(vectors, cutoff) \n",
    "\n",
    "            # Calculate the average vector\n",
    "            average_vector = np.mean(neighbor_vectors, axis=0)\n",
    "\n",
    "            # get (-) vector which is the furthest from all other points\n",
    "            flipped_vector = -1*average_vector\n",
    "\n",
    "            # plot a hydrogen at the end of the vector starting from the chalcogen\n",
    "            end_point = get_scaled_vector(point, flipped_vector, chalcogen_hydrogen_distances[chalcogen])\n",
    "            hydrogen_pos.append(end_point)\n",
    "\n",
    "            visited.append(point.tolist()) # mark as visited\n",
    "\n",
    "    # using positions to attach hydrogens to inorganic\n",
    "    for h in hydrogen_pos:\n",
    "        hydrogen_atom = Atoms('H', positions=[h]) \n",
    "        inorganic.extend(hydrogen_atom)\n",
    "\n",
    "    if plot_structure:\n",
    "        fig, ax = plt.subplots(1,3, figsize=(12,8))\n",
    "        plot_atoms(inorganic, ax[0], radii=0.5, rotation=('-90x,0y,0z'))\n",
    "        plot_atoms(inorganic, ax[1], radii=0.5, rotation=('0x,90y,0z'))\n",
    "        plot_atoms(inorganic, ax[2], radii=0.5, rotation=('0x,0y,90z'))\n",
    "    write(f\"{path}{filename}_FINAL.vasp\", inorganic)\n",
    "    print(f\"Written to {path}{filename}_FINAL.vasp\")\n",
    "\n",
    "path = \"/Users/adrianaladera/Desktop/MIT/research/mochas/ALL_STRUCTURES/airss_practice/\"\n",
    "filename = \"inorganic2\"\n",
    "inorganic = read(f'{path}{filename}.vasp')\n",
    "print(inorganic.get_cell_lengths_and_angles())\n",
    "add_hydrogens(inorganic, filename, plot_structure=False)"
   ]
  },
  {
   "cell_type": "code",
   "execution_count": null,
   "metadata": {},
   "outputs": [],
   "source": []
  }
 ],
 "metadata": {
  "kernelspec": {
   "display_name": "deeznuts",
   "language": "python",
   "name": "python3"
  },
  "language_info": {
   "codemirror_mode": {
    "name": "ipython",
    "version": 3
   },
   "file_extension": ".py",
   "mimetype": "text/x-python",
   "name": "python",
   "nbconvert_exporter": "python",
   "pygments_lexer": "ipython3",
   "version": "3.11.8"
  },
  "orig_nbformat": 4
 },
 "nbformat": 4,
 "nbformat_minor": 2
}
