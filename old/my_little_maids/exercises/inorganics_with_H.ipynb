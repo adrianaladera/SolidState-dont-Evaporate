{
 "cells": [
  {
   "cell_type": "code",
   "execution_count": 1,
   "id": "5fe30833-0700-4ae9-9f69-e6670dc1d9a0",
   "metadata": {},
   "outputs": [],
   "source": [
    "from pymatgen.core import Lattice, Structure, Site\n",
    "import numpy as np\n",
    "import os"
   ]
  },
  {
   "cell_type": "code",
   "execution_count": 2,
   "id": "c33fdccc-1b58-4526-9723-aea9d8d121c4",
   "metadata": {},
   "outputs": [],
   "source": [
    "def get_components(c0, c1):\n",
    "    '''Parameters:\n",
    "        - c0: list of Cartesian coordinates for neighboring atom\n",
    "        - c1: list of Cartesian coordinates for atom to be replaced \n",
    "        Returns:\n",
    "        -  x, y, z components of vector between both sets of coordinates'''\n",
    "    return (c1[0]-c0[0], c1[1]-c0[1], c1[2]-c0[2])\n",
    "\n",
    "def replace_distance(v, dist): # desired distance in Å\n",
    "    '''Parameters: \n",
    "        - v: vector obtained by get_components()\n",
    "        - desired distance between atoms in Ångstrom \n",
    "        Returns:\n",
    "        - components of new vector '''\n",
    "    return (v / np.linalg.norm(v)) * dist\n",
    "\n",
    "def replace_coords(v, c0):\n",
    "    '''Parameters:\n",
    "        - v: new vector obtained with replace_distance()\n",
    "        - c0: coordinates of neighboring atom\n",
    "        Returns: \n",
    "        - updated coordinates of atom that will replace current atom'''\n",
    "    return v + c0"
   ]
  },
  {
   "cell_type": "code",
   "execution_count": 38,
   "id": "42b4e28b-62f9-4d5c-b901-8afafb52e217",
   "metadata": {},
   "outputs": [
    {
     "name": "stdout",
     "output_type": "stream",
     "text": [
      "file written your majesty >:)\n"
     ]
    }
   ],
   "source": [
    "# path to MOChA file that you want to modify\n",
    "mocha = \"thiorene\"\n",
    "radius = 1.86\n",
    "root = \"/Users/adrianaladera/Desktop/MIT/research/MOChAs/original_structures\"\n",
    "\n",
    "structure = Structure.from_file(f\"{root}/{mocha}/POSCAR\")\n",
    "\n",
    "for a in range(len(structure)):\n",
    "    if str(structure[a].species) == \"C1\":\n",
    "        neighbors = structure.get_neighbors(site = structure[a], r = radius)\n",
    "        for n in neighbors:\n",
    "            if str(n.species) == \"S1\":\n",
    "                cunt += 1\n",
    "                curr_vector = get_components(n.coords, structure[a].coords) # current distance in Å\n",
    "                new_vector = replace_distance(curr_vector, 1.3) # desired length in Å\n",
    "                structure.replace(idx=a, species='Cl', coords=replace_coords(new_vector, n.coords), coords_are_cartesian=True)\n",
    "\n",
    "# removing atoms that make up ligand\n",
    "# structure.remove_species(species='O')\n",
    "structure.remove_species(species='H')\n",
    "structure.remove_species(species='C')\n",
    "\n",
    "for a in range(len(structure)):\n",
    "    if str(structure[a].species) == \"Cl1\":\n",
    "        structure.replace(idx=a, species='H')\n",
    "\n",
    "dest = \"/Users/adrianaladera/Desktop/MIT/research/MOChAs/inorganics\"\n",
    "if not os.path.exists(f\"{dest}/{mocha}\"):\n",
    "    os.mkdir(f\"{dest}/{mocha}\")\n",
    "structure.to(filename = f\"{dest}/{mocha}/{mocha}_inorganic.cif\") # write to file\n",
    "\n",
    "print(\"file written your majesty >:)\")"
   ]
  },
  {
   "cell_type": "code",
   "execution_count": null,
   "id": "e108c64e-b7dd-42bc-910e-d9b818f620d8",
   "metadata": {},
   "outputs": [],
   "source": []
  },
  {
   "cell_type": "code",
   "execution_count": null,
   "id": "f046f2b2-b2b3-41a3-b3c3-edceb47be5fe",
   "metadata": {},
   "outputs": [],
   "source": []
  }
 ],
 "metadata": {
  "kernelspec": {
   "display_name": "Python 3 (ipykernel)",
   "language": "python",
   "name": "python3"
  },
  "language_info": {
   "codemirror_mode": {
    "name": "ipython",
    "version": 3
   },
   "file_extension": ".py",
   "mimetype": "text/x-python",
   "name": "python",
   "nbconvert_exporter": "python",
   "pygments_lexer": "ipython3",
   "version": "3.11.8"
  }
 },
 "nbformat": 4,
 "nbformat_minor": 5
}
