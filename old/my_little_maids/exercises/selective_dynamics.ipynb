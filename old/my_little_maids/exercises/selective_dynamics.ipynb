{
 "cells": [
  {
   "cell_type": "code",
   "execution_count": 1,
   "id": "52ccc000-7409-4a49-89ad-a9716944af51",
   "metadata": {},
   "outputs": [],
   "source": [
    "from pymatgen.core.structure import Structure\n",
    "from pymatgen.io.vasp import Poscar\n",
    "import numpy as np"
   ]
  },
  {
   "cell_type": "code",
   "execution_count": 13,
   "id": "1b6b0fb3-25d9-4534-9101-4a74ff434a19",
   "metadata": {},
   "outputs": [
    {
     "name": "stdout",
     "output_type": "stream",
     "text": [
      "File written to /Users/adrianaladera/Desktop/MIT/research/ligands/water/water_molecule_FINAL_sel_dyn.vasp\n"
     ]
    }
   ],
   "source": [
    "# mocha = \"galac_rtr_dehydrated\"\n",
    "# root = f\"/Users/adrianaladera/Desktop/MIT/research/mochas/original_structures/{mocha}/\"\n",
    "mocha = \"\"\n",
    "root = \"/Users/adrianaladera/Desktop/MIT/research/ligands/water/\"\n",
    "yourmom = Structure.from_file(f\"{root}/water_molecule.vasp\")\n",
    "\n",
    "# select_dicks = np.zeros((len(yourmom),3))\n",
    "select_dicks = []\n",
    "\n",
    "for ass in range(len(yourmom)):\n",
    "    if str(yourmom[ass].species) == \"H1\":\n",
    "        select_dicks.append([True, True, True])\n",
    "    else:\n",
    "        select_dicks.append([False, False, False])\n",
    "pos = Poscar(yourmom, selective_dynamics=select_dicks)\n",
    "\n",
    "pos.write_file(f\"{root}{mocha}water_molecule_FINAL_sel_dyn.vasp\")\n",
    "print((f\"File written to {root}{mocha}water_molecule_FINAL_sel_dyn.vasp\"))"
   ]
  },
  {
   "cell_type": "code",
   "execution_count": null,
   "id": "0c0cfecf-c397-42b8-bf15-d34e356ef7bf",
   "metadata": {},
   "outputs": [],
   "source": []
  }
 ],
 "metadata": {
  "kernelspec": {
   "display_name": "deeznuts",
   "language": "python",
   "name": "python3"
  },
  "language_info": {
   "codemirror_mode": {
    "name": "ipython",
    "version": 3
   },
   "file_extension": ".py",
   "mimetype": "text/x-python",
   "name": "python",
   "nbconvert_exporter": "python",
   "pygments_lexer": "ipython3",
   "version": "3.11.8"
  }
 },
 "nbformat": 4,
 "nbformat_minor": 5
}
