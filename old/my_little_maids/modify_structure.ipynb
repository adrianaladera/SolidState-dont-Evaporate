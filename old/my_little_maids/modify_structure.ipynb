{
 "cells": [
  {
   "cell_type": "code",
   "execution_count": 2,
   "metadata": {},
   "outputs": [],
   "source": [
    "from pymatgen.core import Lattice, Structure, Site, IStructure\n",
    "import numpy as np\n",
    "import os\n",
    "import ase.geometry\n",
    "from pymatgen.io.vasp import Poscar\n",
    "from ase.geometry.analysis import Analysis\n",
    "import numpy as np\n",
    "import os\n",
    "from ase.io import read, write"
   ]
  },
  {
   "attachments": {},
   "cell_type": "markdown",
   "metadata": {},
   "source": [
    "## Helper Functions"
   ]
  },
  {
   "cell_type": "code",
   "execution_count": 3,
   "metadata": {},
   "outputs": [],
   "source": [
    "def get_components(c0, c1):\n",
    "    '''Parameters:\n",
    "        - c0: list of Cartesian coordinates for neighboring atom\n",
    "        - c1: list of Cartesian coordinates for atom to be replaced \n",
    "        Returns:\n",
    "        -  x, y, z components of vector between both sets of coordinates'''\n",
    "    return (c1[0]-c0[0], c1[1]-c0[1], c1[2]-c0[2])\n",
    "\n",
    "def replace_distance(v, dist): # desired distance in Å\n",
    "    '''Parameters: \n",
    "        - v: vector obtained by get_components()\n",
    "        - desired distance between atoms in Ångstrom \n",
    "        Returns:\n",
    "        - components of new vector '''\n",
    "    return (v / np.linalg.norm(v)) * dist\n",
    "\n",
    "def replace_coords(v, c0):\n",
    "    '''Parameters:\n",
    "        - v: new vector obtained with replace_distance()\n",
    "        - c0: coordinates of neighboring atom\n",
    "        Returns: \n",
    "        - updated coordinates of atom that will replace current atom'''\n",
    "    return v + c0"
   ]
  },
  {
   "attachments": {},
   "cell_type": "markdown",
   "metadata": {},
   "source": [
    "## Modifying the Structure\n",
    "\n",
    "In this thingy:\n",
    "- just_the_inorganic(): saves just the inorganic components of a structure to a file\n",
    "- replace_ligand_with_H(): truncates a site with a hydrogen by removing the attached ligand \n",
    "- remove_dupes(): removes duplicates within a certain cutoff radius\n",
    "- selective_dynamics(): adds selective dynamics to a file"
   ]
  },
  {
   "cell_type": "code",
   "execution_count": 4,
   "metadata": {},
   "outputs": [],
   "source": [
    "def just_the_inorganic(dest, mocha):\n",
    "    '''saves just the inorganic components of a structure to a file\n",
    "        - mocha: pymatgen.core.structure object\n",
    "        - dest: where to save the file to'''\n",
    "    organics_list = ['F', 'C', 'O', 'H', 'N']\n",
    "    rm_list = []\n",
    "\n",
    "    for a in range(len(mocha)):\n",
    "        if str(mocha[a].species)[:-1] in organics_list and str(mocha[a].species)[:-1] not in rm_list:\n",
    "            rm_list.append(str(mocha[a].species)[:-1])\n",
    "    \n",
    "    for r in rm_list:\n",
    "        mocha.remove_species(species=r)\n",
    "    \n",
    "    if not os.path.exists(f\"{dest}/structure_analysis\"):\n",
    "        os.mkdir(f\"{dest}/structure_analysis\")\n",
    "    mocha.to(filename = f\"{dest}/structure_analysis/inorganic.cif\")\n",
    "    print(f\"Saved to {dest}/structure_analysis/inorganic.cif\")\n",
    "\n",
    "\n",
    "def replace_ligand_with_H(dest, mocha, removals, temp_site):\n",
    "    '''Replaces the ligand at the chalcogen site with a H. \n",
    "        Purpose is to isolate the inorganic interaction of the \n",
    "        MOCha at the band gap. \n",
    "        dest - where to store final file\n",
    "        mocha - Pymatgen Structure object\n",
    "        removals - list of strings in which each string are the species\n",
    "        that make up the ligand\n",
    "        temp_site - site that will be replaced with a hydrogen at the\n",
    "        appropriate distance from the calchogen'''\n",
    "\n",
    "    chalcogens = ['Se', 'Te', 'S']\n",
    "\n",
    "    # distance in Angstrom between the given chalcogen and a hydrogen\n",
    "    chalcogen_hydrogen_distances = {'Se': 1.46, 'S': 1.3, 'Te': 1.68}\n",
    "\n",
    "    # removing atoms that make up ligand\n",
    "    for r in removals:\n",
    "        mocha.remove_species(species=r)\n",
    "\n",
    "    for a in range(len(mocha)):\n",
    "        if str(mocha[a].species) == f\"{temp_site}1\":    \n",
    "            print(str(mocha[a].species))\n",
    "            coordz = mocha[a].coords\n",
    "            neighbors = mocha.get_neighbors(site = mocha[a], r = 2.8)\n",
    "            for n in neighbors:\n",
    "                print(n.species)\n",
    "                if str(n.species)[:-1] in chalcogens:\n",
    "                    print(\"your mom\")\n",
    "                    curr_vector = get_components(n.coords, mocha[a].coords) # current distance in Å\n",
    "                    new_vector = replace_distance(curr_vector, chalcogen_hydrogen_distances[str(n.species)[:-1]]) # desired length in Å\n",
    "    \n",
    "                    # replace atoms with temp species not already in molecule\n",
    "                    mocha.replace(idx=a, species='H', coords=replace_coords(new_vector, n.coords), coords_are_cartesian=True)\n",
    "\n",
    "    mocha.to(filename = f\"{dest}/inorganic-with-H.cif\") # write to file\n",
    "    print(f\"file written to {dest}/inorganic-with-H.cif\")   \n",
    "\n",
    "def remove_dupes(structure):\n",
    "    '''Removes duplicates from a structure\n",
    "        - structure: ase Atoms object'''\n",
    "    \n",
    "    print(f\"Total: {len(structure)}\")\n",
    "    new_struct = ase.geometry.get_duplicate_atoms(structure, cutoff=0.2, delete=True)\n",
    "    new_struct = ase.geometry.get_duplicate_atoms(structure, cutoff=0.2, delete=False)\n",
    "    print(f\"Total with duplicates removed: {len(new_struct)}\")\n",
    "\n",
    "    return structure \n",
    "\n",
    "def selective_dynamics(yourmom, filename, species):\n",
    "    '''Adds selective dynamics to desired species\n",
    "        - yourmom: pymatgen.core.structure object\n",
    "        - filename: str filename to save Structure object\n",
    "        - species: list of strings; species to add selective dynamics'''\n",
    "    \n",
    "    select_dicks = []\n",
    "\n",
    "    for ass in range(len(yourmom)):\n",
    "        if str(yourmom[ass].species)[:-1] in species:\n",
    "            select_dicks.append([True, True, True])\n",
    "        else:\n",
    "            select_dicks.append([False, False, False])\n",
    "    # convert to poscar\n",
    "    pos = Poscar(yourmom, selective_dynamics=select_dicks)\n",
    "\n",
    "    pos.write_file(filename)\n",
    "    print((f\"File written to {filename}\"))\n",
    "\n",
    "def remove_species(dest, filename, mocha, species):\n",
    "    '''saves just the inorganic components of a structure to a file\n",
    "        - mocha: pymatgen.core.structure object\n",
    "        - dest: where to save the file to\n",
    "        - species: string list of species to remove from Structure'''\n",
    "    \n",
    "    for s in species:\n",
    "        mocha.remove_species(species=s)\n",
    "    \n",
    "    poscar = Poscar(mocha)\n",
    "    poscar.write_file(f\"{dest}/{filename}\")\n",
    "    print(f\"Saved to {dest}/{filename}\")\n",
    "\n",
    "def find_unit_cell(path, filename, supercell):\n",
    "    unit_cell = supercell.get_primitive_structure()\n",
    "    poscar = Poscar(unit_cell)\n",
    "    poscar.write_file(f\"{path}/{filename}_unitcell.vasp\")\n",
    "    print(f\"Unit cell saved to {path}/{filename}_unitcell.vasp\")"
   ]
  },
  {
   "attachments": {},
   "cell_type": "markdown",
   "metadata": {},
   "source": [
    "## Get the unit cell from a supercell structure"
   ]
  },
  {
   "cell_type": "code",
   "execution_count": 7,
   "metadata": {},
   "outputs": [
    {
     "name": "stdout",
     "output_type": "stream",
     "text": [
      "Unit cell saved to /Users/adrianaladera/Desktop/MIT/research/mochas/ALL_STRUCTURES/fluorescence_1D_mochas/new_mochas//AuSEtPh_high-temp_ORANGE_unitcell.vasp\n"
     ]
    }
   ],
   "source": [
    "# filename = \"CuS-4MeO_ORANGE\"\n",
    "\n",
    "# supercell_path = f\"/Users/adrianaladera/Desktop/MIT/research/mochas/ALL_STRUCTURES/fluorescence_1D_mochas/1D_fluorescent/{filename}\"\n",
    "# structure = Structure.from_file(f\"{supercell_path}/{filename}.vasp\")\n",
    "\n",
    "path = \"/Users/adrianaladera/Desktop/MIT/research/mochas/ALL_STRUCTURES/fluorescence_1D_mochas/new_mochas/\"\n",
    "structure = Structure.from_file(f\"{path}/AuSEtPh_high-temp_ORANGE.cif\")\n",
    "find_unit_cell(path, \"AuSEtPh_high-temp_ORANGE\", structure)"
   ]
  },
  {
   "attachments": {},
   "cell_type": "markdown",
   "metadata": {},
   "source": [
    "## Remove selected species from a structure"
   ]
  },
  {
   "cell_type": "code",
   "execution_count": 8,
   "metadata": {},
   "outputs": [
    {
     "name": "stdout",
     "output_type": "stream",
     "text": [
      "Saved to /Users/adrianaladera/Desktop/MIT/research/mochas/ALL_STRUCTURES/3-amino_AgS-anilines/dimethyl_1D/tert-butyl_dimethyl_1D/tert-butyl_dimethyl_1D.vasp\n"
     ]
    }
   ],
   "source": [
    "mocha = \"t_dimethyl_1D\"\n",
    "path = f\"/Users/adrianaladera/Desktop/MIT/research/mochas/ALL_STRUCTURES/3-amino_AgS-anilines/dimethyl_1D/{mocha}\"\n",
    "\n",
    "structure = Structure.from_file(f\"{path}/{mocha}_skeleton.vasp\")\n",
    "remove_species(path, f\"{mocha}.vasp\", structure, [\"H\"])"
   ]
  },
  {
   "attachments": {},
   "cell_type": "markdown",
   "metadata": {},
   "source": [
    "## Get selective dynamics on certain species within a structure to run in VASP"
   ]
  },
  {
   "cell_type": "code",
   "execution_count": 9,
   "metadata": {},
   "outputs": [
    {
     "name": "stdout",
     "output_type": "stream",
     "text": [
      "File written to /Users/adrianaladera/Desktop/MIT/research/mochas/ALL_STRUCTURES/3-amino_AgS-anilines/dimethyl_1D/2-methoxy_dimethyl_1D/2-methoxy_dimethyl_1D_FINAL_sel_dyn.vasp\n"
     ]
    }
   ],
   "source": [
    "mocha = \"2-methoxy_dimethyl_1D\"\n",
    "path = f\"/Users/adrianaladera/Desktop/MIT/research/mochas/ALL_STRUCTURES/3-amino_AgS-anilines/dimethyl_1D/{mocha}\"\n",
    "structure = Structure.from_file(f\"{path}/{mocha}_FINAL.vasp\")\n",
    "\n",
    "selective_dynamics(structure, f\"{path}/{mocha}_FINAL_sel_dyn.vasp\", [\"H\", \"C\", \"N\"])"
   ]
  },
  {
   "cell_type": "code",
   "execution_count": 19,
   "metadata": {},
   "outputs": [],
   "source": [
    "path = \"/Users/adrianaladera/Desktop/yourmom/\"\n",
    "filename = \"temp.vasp\"\n",
    "structure = Structure.from_file(f\"{path}balls.vasp\")\n",
    "select_dicks = []\n",
    "for i in range(len(structure)):\n",
    "    select_dicks.append([True, True, True])\n",
    "\n",
    "new_struct = Structure(lattice=structure.lattice, species=structure.species, coords=structure.frac_coords)\n",
    "\n",
    "pos = Poscar(new_struct)\n",
    "pos.write_file(f\"{path}{filename}\")\n"
   ]
  },
  {
   "cell_type": "code",
   "execution_count": 5,
   "metadata": {},
   "outputs": [
    {
     "name": "stdout",
     "output_type": "stream",
     "text": [
      "Saved to /Users/adrianaladera/Desktop/MIT/research/mochas/VASP_calculations/varying_inorganics/AgS-benzene/1D-AgS-benzene_3methoxy-I/3ISIF/scf/structure_analysis/inorganic.cif\n"
     ]
    }
   ],
   "source": [
    "# path to MOChA file that you want to modify\n",
    "mocha = \"1D-AgSe-benzene_3methoxy-I\"\n",
    "path = f\"/Users/adrianaladera/Desktop/MIT/research/mochas/VASP_calculations/varying_inorganics/AgS-benzene/1D-AgS-benzene_3methoxy-I/3ISIF/scf\"\n",
    "dest = path[:-4]\n",
    "# mocha = \"CONTCAR\"\n",
    "\n",
    "structure = Structure.from_file(f\"{path}/POSCAR\".format(path))\n",
    "just_the_inorganic(f\"{path}\", structure)"
   ]
  },
  {
   "cell_type": "code",
   "execution_count": 24,
   "metadata": {},
   "outputs": [
    {
     "name": "stdout",
     "output_type": "stream",
     "text": [
      "2ISIF galac_rtr_dehydrated\n"
     ]
    }
   ],
   "source": [
    "root = \"/Users/adrianaladera/Desktop/MIT/research/mochas/VASP_calculations/sugar_mochas/galac_rtr_dehydrated/2ISIF/\" \n",
    "\n",
    "stuff = root.split(\"/\")\n",
    "\n",
    "print(stuff[-2], stuff[-3])"
   ]
  },
  {
   "cell_type": "code",
   "execution_count": null,
   "metadata": {},
   "outputs": [],
   "source": []
  }
 ],
 "metadata": {
  "kernelspec": {
   "display_name": "deeznuts",
   "language": "python",
   "name": "python3"
  },
  "language_info": {
   "codemirror_mode": {
    "name": "ipython",
    "version": 3
   },
   "file_extension": ".py",
   "mimetype": "text/x-python",
   "name": "python",
   "nbconvert_exporter": "python",
   "pygments_lexer": "ipython3",
   "version": "3.11.6"
  },
  "orig_nbformat": 4
 },
 "nbformat": 4,
 "nbformat_minor": 2
}
