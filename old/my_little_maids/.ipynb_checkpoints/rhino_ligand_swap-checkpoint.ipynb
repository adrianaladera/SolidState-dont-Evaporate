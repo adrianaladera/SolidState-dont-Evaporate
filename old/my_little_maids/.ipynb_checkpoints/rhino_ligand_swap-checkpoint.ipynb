{
 "cells": [
  {
   "cell_type": "markdown",
   "metadata": {},
   "source": [
    "## Importing libraries and shihh"
   ]
  },
  {
   "cell_type": "code",
   "execution_count": null,
   "metadata": {},
   "outputs": [],
   "source": [
    "from ase.io import read, write\n",
    "from ase.build.molecule import molecule\n",
    "from ase.io import write\n",
    "import matplotlib.pyplot as plt\n",
    "from ase.visualize.plot import plot_atoms\n",
    "import os\n",
    "import numpy as np\n",
    "from ase import Atoms\n",
    "from pymatgen.core.lattice import Lattice\n",
    "from pymatgen.core import Structure\n",
    "from pymatgen.io.vasp.inputs import Poscar\n",
    "from pymatgen.core.structure import Structure\n",
    "import subprocess as sp"
   ]
  },
  {
   "cell_type": "markdown",
   "metadata": {},
   "source": [
    "## Creating color-to-species (and vice versa) dictionaries to convert between POSCAR and Rhino and bacK"
   ]
  },
  {
   "cell_type": "code",
   "execution_count": 91,
   "metadata": {},
   "outputs": [
    {
     "name": "stdout",
     "output_type": "stream",
     "text": [
      "{'192.192.192': 'Ag', '210.178.221': 'Hg', '151.136.72': 'Te', '255.255.51': 'S', '57.255.20': 'Se', '102.0.0': 'C', '102.255.255': 'N', '255.204.204': 'H', '255.0.0': 'O', '130.197.243': 'F'}\n"
     ]
    }
   ],
   "source": [
    "# for POSCAR to Rhino\n",
    "elements_to_rgb = {'Ag':[192,192,192], 'Hg':[210, 178, 221], \n",
    "                   'Te':[151, 136, 72], 'S':[255,255,51], 'Se':[57, 255, 20],\n",
    "           'C':[102,0,0], 'N':[102,255,255], 'H':[255,204,204], 'O':[255,0,0], 'F':[130,197,243]}\n",
    "# for Rhino to POSCAR\n",
    "rgb_to_elements = {}\n",
    "for s in elements_to_rgb:\n",
    "    rgb = elements_to_rgb[s]\n",
    "    rgb_to_elements[f\"{rgb[0]}.{rgb[1]}.{rgb[2]}\"] = s\n",
    "    \n",
    "print(rgb_to_species)"
   ]
  },
  {
   "cell_type": "markdown",
   "metadata": {},
   "source": [
    "## Convert POSCAR to points file for Rhino\n",
    "### Update to color code H that will be replaced with atom not in mocha (like O)"
   ]
  },
  {
   "cell_type": "code",
   "execution_count": 99,
   "metadata": {},
   "outputs": [
    {
     "name": "stdout",
     "output_type": "stream",
     "text": [
      "\n",
      "Converted POSCAR to XYZRGB points file\n",
      "Written to: \n",
      "/Users/adrianaladera/Desktop/MIT/research/rhino_structure_design/mochas/DEMO_skeleton.xyz\n"
     ]
    }
   ],
   "source": [
    "def poscar_to_xyz_rgb(path, filename, extension):\n",
    "    '''Converts a VASP file into a .xyz readable points file for Rhino, with elements\n",
    "        mapped to RGB values\n",
    "        \n",
    "        - path: the path to the POSCAR\n",
    "        - filename: name of the file to be converted(without the extension)\n",
    "        - extension: .vasp or '' if POSCAR'''\n",
    "    poscar = Structure.from_file(f\"{path}{filename}{extension}\")\n",
    "    run = True\n",
    "    while run:\n",
    "        if os.path.exists(f\"{path}{filename}.xyz\"):\n",
    "            sp.run(f\"rm {path}{filename}.xyz\", shell=True)\n",
    "            print(\"\\nFile already exists. Rewriting now...\")\n",
    "            \n",
    "        with open(f\"{path}{filename}.xyz\", 'a') as f:\n",
    "            for i in poscar.as_dict()['sites']:\n",
    "                colors = species_to_rgb(str(i['species'][0]['element']))\n",
    "                lines = [f\"{i['xyz'][0]} {i['xyz'][1]} {i['xyz'][2]} {colors[0]} {colors[1]} {colors[2]}\\n\"]\n",
    "                f.writelines(lines)\n",
    "            f.close()\n",
    "            print(\"\\nConverted POSCAR to XYZRGB points file\")\n",
    "            print(f\"Written to: \\n{path}{filename}.xyz\")\n",
    "            run = False\n",
    "        \n",
    "def species_to_rgb(species, rgb=elements_to_rgb):\n",
    "    return rgb[species]\n",
    "\n",
    "mocha = \"3-methoxy\"\n",
    "# path = f\"/Users/adrianaladera/Desktop/MIT/research/MOChAs/original_structures/{mocha}/\"\n",
    "path = \"/Users/adrianaladera/Desktop/MIT/research/rhino_structure_design/mochas/\"\n",
    "file = \"DEMO_skeleton\"\n",
    "extension = \".vasp\"\n",
    "poscar_to_xyz_rgb(path, file, extension)"
   ]
  },
  {
   "cell_type": "markdown",
   "metadata": {},
   "source": [
    "## Convert Rhino points file to POSCAR.vasp\n"
   ]
  },
  {
   "cell_type": "code",
   "execution_count": 102,
   "metadata": {},
   "outputs": [
    {
     "name": "stdout",
     "output_type": "stream",
     "text": [
      "\n",
      "File already exists. Rewriting now...\n",
      "Converting text file to XYZ readable molecule file\n",
      "Updating unit cell of DEMO.xyz and writing to *.vasp\n",
      "\n",
      "Written to:\n",
      "\n",
      "/Users/adrianaladera/Desktop/MIT/research/rhino_structure_design/mochas/DEMO_FINAL.vasp\n"
     ]
    }
   ],
   "source": [
    "def xyz_rgb_to_poscar(path, dest, filename, extension):\n",
    "    '''Converts a Rhino .txt readable points back into an .xyz file, with RGB values\n",
    "        mapped to back to elements\n",
    "        \n",
    "        - path: the path to .txt file\n",
    "        - dest: where the final converted file will be saved\n",
    "        - filename: name of the file to be converted(without the extension)\n",
    "        - extension: .txt'''\n",
    "    run = True\n",
    "    flag = 0\n",
    "    while run:\n",
    "        if not os.path.exists(f\"{path}{filename}.xyz\") or flag == 1:\n",
    "            with open(f\"{path}{filename}{extension}\", 'r') as f:\n",
    "                with open(f\"{dest}{filename}.xyz\", 'a') as fuck:\n",
    "                    lines = f.readlines()\n",
    "                    # Ag, S, C, H, N = [],[],[],[],[]\n",
    "                    species_dict, species_list = {},{}\n",
    "                    for i in lines:\n",
    "                        i = i.strip('\\n')\n",
    "                        species = rgb_to_species([int(i.split(',')[3]), int(i.split(',')[4]), int(i.split(',')[5])])\n",
    "                        if species not in species_dict.keys():\n",
    "                            species_dict[species] = f\"{int(i.split(',')[3])} {int(i.split(',')[4])} {int(i.split(',')[5])}\"\n",
    "                            species_list[species] = []\n",
    "                    for i in lines:\n",
    "                        i = i.strip('\\n')\n",
    "                        species = rgb_to_species([int(i.split(',')[3]), int(i.split(',')[4]), int(i.split(',')[5])])\n",
    "                        species_list[species].append([float(i.split(',')[0]), float(i.split(',')[1]),float(i.split(',')[2])])\n",
    "                    s, s2 = '', ''\n",
    "                    s += f\"{sum([len(species_list[spec]) for spec in species_list])}\\n\"\n",
    "                    for spec in species_list:\n",
    "                        s += f\"{spec}{len(species_list[spec])} \"\n",
    "                        for a in species_list[spec]:\n",
    "                            s2 += f\"{spec} {a[0]} {a[1]} {a[2]}\\n\"\n",
    "                    s += '\\n' + s2\n",
    "                    fuck.write(s)\n",
    "            print(\"Converting text file to XYZ readable molecule file\")\n",
    "            run = False\n",
    "            fuck.close()\n",
    "        else:\n",
    "            sp.run(f\"rm {path}{filename}.xyz\", shell=True)\n",
    "            print(\"\\nFile already exists. Rewriting now...\")\n",
    "            run = True\n",
    "            flag = 1\n",
    "\n",
    "def modify_lattice(path, dest, file, lattice_path):\n",
    "    '''Updates the unit cell of the current .xyz file and saves in .vasp format\n",
    "    \n",
    "        - path: the path to the POSCAR\n",
    "        - dest: where the final converted file will be saved\n",
    "        - file: name of the .xyz file to be converted\n",
    "        - lattice_path: path to the POSCAR of the desired lattice matrix, \n",
    "                        leave as '' if entering a, b, c, alpha, beta, gamma'''\n",
    "    if os.path.exists(f'{path}{file}'):\n",
    "        mocha = read(f'{path}{file}') \n",
    "        if len(lattice_path) == 0:\n",
    "            x = input(\"\\Enter a, b, c, alpha, beta, gamma: \")\n",
    "            p = [float(i) for i in x.strip().split()]\n",
    "            long_lattice = Lattice.from_parameters(p[0],p[1],p[2],p[3],p[4],p[5]) \n",
    "            mocha.set_cell(long_lattice.matrix)  \n",
    "        else:\n",
    "            lats = Structure.from_file(lattice_path)\n",
    "            mocha.set_cell(lats.lattice.matrix)\n",
    "        \n",
    "        write(f\"{dest}{file[:-4]}_FINAL.vasp\", mocha)\n",
    "        print(f\"Updating unit cell of {file} and writing to *.vasp\\n\")\n",
    "        print(f\"Written to:\\n\\n{dest}{file[:-4]}_FINAL.vasp\")\n",
    "              \n",
    "def rgb_to_species(rgb_vals, rgb = rgb_to_elements):\n",
    "    key = f\"{rgb_vals[0]}.{rgb_vals[1]}.{rgb_vals[2]}\"\n",
    "    return rgb[key]\n",
    "\n",
    "path =  \"/Users/adrianaladera/Desktop/MIT/research/rhino_structure_design/mochas/\"\n",
    "lattice_path = \"/Users/adrianaladera/Desktop/MIT/research/MOChAs/original_structures/3-methoxy/POSCAR\"\n",
    "xyz_rgb_to_poscar(path, path, 'DEMO', '.txt')\n",
    "write_path = modify_lattice(path, path, \"DEMO.xyz\", lattice_path)\n",
    "\n",
    "# mocha = \"glu3_rtr\"\n",
    "# path = \"/Users/adrianaladera/Desktop/MIT/research/rhino_structure_design/mochas/\"\n",
    "# dest = f\"/Users/adrianaladera/Desktop/MIT/research/MOChAs/original_structures/{mocha}/\"\n",
    "# lattice_path = f\"{dest}glu3_rtr_dehydrated_FINAL.vasp\" # leave as '' if entering a,b,c,alpha,beta,gamma\n",
    "# file = \"glu3_rtr_dehydrated\"\n",
    "# extension = \".txt\"\n",
    "# xyz_rgb_to_poscar(path, dest, file, extension)\n",
    "# write_path = modify_lattice(dest, dest, f\"{file}.xyz\", lattice_path)\n"
   ]
  },
  {
   "cell_type": "markdown",
   "metadata": {},
   "source": [
    "## Remove duplicate atoms\n",
    "post-processing of XYZRGB to VASP POSCAR file\n",
    "\n"
   ]
  },
  {
   "cell_type": "code",
   "execution_count": null,
   "metadata": {},
   "outputs": [
    {
     "name": "stdout",
     "output_type": "stream",
     "text": [
      "Total: 88\n",
      "Total with duplicates removed: 86\n",
      "Ag  S  C  H  N \n",
      " 1.0000000000000000\n",
      "     4.5000000000000000    0.0000000000000000    0.0000000000000000\n",
      "    -0.9786360103000000   11.5335550523000006    0.0000000000000000\n",
      "    -1.1935291189999999   -4.4952656600000003   14.7354120577999996\n",
      " Ag  S   C   H   N  \n",
      "   4   4  31  43   4\n",
      "Cartesian\n",
      "  0.6327452040000000  1.7840155940000000  6.4732665269999989\n",
      "  1.6950896660000001  5.2542737980000007  8.2621455309999998\n"
     ]
    }
   ],
   "source": [
    "from ase.io import read, write\n",
    "import ase.geometry as geo\n",
    "import os\n",
    "import subprocess\n",
    "\n",
    "path = \"/Users/adrianaladera/Desktop/MIT/research/MOChAs/prototype_structures/3-methoxy_dimethyl/\"\n",
    "filename = \"3methoxy_dimethyl_last.vasp\"\n",
    "cutoff = 0.74\n",
    "\n",
    "def remove_dupes(path, filename, cut):\n",
    "        mocha = read(f\"{path}{filename}\")\n",
    "        lattice = [[4.5000000000,         0.0000000000,         0.0000000000,],\n",
    "       [-0.9786360103,        11.5335550523,         0.0000000000],\n",
    "       [-1.1935291190,        -4.4952656600,        14.7354120578]]\n",
    "        print(f\"Total: {len(mocha)}\")\n",
    "        dupes = geo.get_duplicate_atoms(mocha, cutoff=cut, delete=True)\n",
    "        print(f\"Total with duplicates removed: {len(mocha)}\")\n",
    "        mocha.set_cell(lattice)\n",
    "        write(f\"{path}/3methoxy_dimethyl_final.vasp\", mocha)\n",
    "        subprocess.run(f\"head {path}/3methoxy_dimethyl_final.vasp\", shell=True)\n",
    "\n",
    "remove_dupes(path, filename, cutoff)"
   ]
  },
  {
   "cell_type": "markdown",
   "metadata": {},
   "source": [
    "## Get lattice and modify if needed"
   ]
  },
  {
   "cell_type": "code",
   "execution_count": 96,
   "metadata": {},
   "outputs": [],
   "source": [
    "def modify_lattice(path, dest, which_v):\n",
    "    ''' - path: path to POSCAR file (uses Pymatgen)\n",
    "        - which_v: whether the a, b, or c'''\n",
    "    amino3 = read(f'{path}3amino_dimethyl_final.vasp') # is an atoms object so it can be modified!\n",
    "    vecs = np.array(Lattice(np.array(amino3.get_cell())).abc)\n",
    "    angles = Lattice(np.array(amino3.get_cell())).angles\n",
    "    shift = 5.0 #in Angstrom, can be (+) or (-)\n",
    "    if which_v =='a':\n",
    "        vecs[0]+=shift\n",
    "    elif which_v =='b':\n",
    "        vecs[1]+=shift\n",
    "    elif which_v =='c':\n",
    "        vecs[2]+=shift\n",
    "        \n",
    "    long_lattice = Lattice.from_parameters(vecs[0],vecs[1],vecs[2],angles[0],angles[1],angles[2])\n",
    "    amino3.set_cell(long_lattice.matrix)\n",
    "    print(long_lattice.matrix)\n",
    "    write(f\"{dest}3amino_dimethyl.vasp\", amino3)\n",
    "\n",
    "path = \"/Users/adrianaladera/Desktop/yourmom/\"\n",
    "dest = \"/Users/adrianaladera/Desktop/yourmom/\"\n",
    "\n",
    "def get_lats(path, struct):\n",
    "    ''' - path: path to POSCAR file (uses Pymatgen)\n",
    "        - which_v: whether the a, b, or c'''\n",
    "    amino3 = read(f'{path}{struct}') # is an atoms object so it can be modified!\n",
    "    vecs = np.array(Lattice(np.array(amino3.get_cell())).abc)\n",
    "    angles = Lattice(np.array(amino3.get_cell())).angles\n",
    "    shift = 5.0 #in Angstrom, can be (+) or (-)\n",
    "\n",
    "    print(long)\n",
    "\n",
    "path = \"/Users/adrianaladera/Desktop/yourmom/\"\n",
    "dest = \"/Users/adrianaladera/Desktop/yourmom/\""
   ]
  },
  {
   "cell_type": "markdown",
   "metadata": {},
   "source": [
    "## sub atoms to replace"
   ]
  },
  {
   "cell_type": "code",
   "execution_count": null,
   "metadata": {},
   "outputs": [],
   "source": [
    "def sub_atoms_to_replace(path, dest, filename, new_file, cutoff, target, neighbor, succotash):\n",
    "    ''' - path: path to file\n",
    "        - cutoff: cutoff radius from baseline atom to neighboring atoms that will be replaced\n",
    "        - succotash: str species to replace old atoms, must be a species not already in the structure'''\n",
    "    structure = Structure.from_file(\"{}{}\".format(path, filename))\n",
    "\n",
    "    for a in range(len(structure)):\n",
    "        if str(structure[a].species) == neighbor: # baseline parent atom\n",
    "            coordz = structure[a].coords\n",
    "            neighbors = structure.get_neighbors(site = structure[a], r = cutoff) #cutoff for neighbor atoms to replace\n",
    "            for n in neighbors:\n",
    "                if str(n.species) == target:\n",
    "                    structure.replace(i=n.index, species=succotash)\n",
    "    \n",
    "    structure.remove_species(species='H')\n",
    "    structure.to(filename = f\"{dest}{new_file}.cif\") # write to file\n",
    "\n",
    "    print(\"file written mommy >:)\")\n",
    "\n",
    "prototype = \"gal3_rtr\"\n",
    "path = \"/Users/adrianaladera/Desktop/MIT/research/MOChAs/original_structures/glu3_rtr/\"\n",
    "dest = f\"/Users/adrianaladera/Desktop/MIT/research/MOChAs/prototype_structures/{prototype}/\"\n",
    "sub_atoms_to_replace(path, dest, \"POSCAR\", prototype, 1.43, \"N1\", \"C1\", 'O')\n",
    "# sub_atoms_to_replace(path, dest, f\"{prototype}.cif\", prototype, 1.39, \"C1\", \"N1\", 'N')"
   ]
  },
  {
   "cell_type": "markdown",
   "metadata": {},
   "source": [
    "## replace temp O atoms with desired ligand / molecule"
   ]
  },
  {
   "cell_type": "code",
   "execution_count": null,
   "metadata": {},
   "outputs": [],
   "source": [
    "def get_components(c0, c1):\n",
    "    '''Parameters:\n",
    "        - c0: list of Cartesian coordinates for neighboring atom\n",
    "        - c1: list of Cartesian coordinates for atom to be replaced \n",
    "        Returns:\n",
    "        -  x, y, z components of vector between both sets of coordinates'''\n",
    "    return (c1[0]-c0[0], c1[1]-c0[1], c1[2]-c0[2])\n",
    "\n",
    "def sub_and_translate_molecules(path, dest, filename, rep_species):\n",
    "    replace_coords = []\n",
    "    mocha = read(f\"{path}{filename}\")\n",
    "    for i, m in enumerate(mocha):\n",
    "        if mocha.get_chemical_symbols()[i] == rep_species:\n",
    "            # print(mocha.get_chemical_symbols()[i])\n",
    "            replace_coords.append(mocha.get_positions()[i])\n",
    "    print(len(mocha))\n",
    "    del mocha[mocha.numbers==8]\n",
    "    print(len(mocha))\n",
    "\n",
    "    for r in replace_coords:\n",
    "        methyl = molecule(\"CH3\")\n",
    "        T = get_components(methyl.get_positions()[0], r)\n",
    "        methyl.rotate(90, 'y')\n",
    "        methyl.translate(T)\n",
    "        mocha.extend(methyl)\n",
    "    print(len(replace_coords))\n",
    "    \n",
    "    write(f\"{dest}3amino_dimethyl_translated.cif\", mocha)\n",
    "    print(\"\\nLigands have been replaced, writing MOCha structure now...\")\n",
    "\n",
    "dest = \"/Users/adrianaladera/Desktop/yourmom/\"\n",
    "mocha = \"test.cif\"\n",
    "\n",
    "sub_and_translate_molecules(dest, dest, mocha, 'O')"
   ]
  }
 ],
 "metadata": {
  "kernelspec": {
   "display_name": "Python [conda env:deeznuts] *",
   "language": "python",
   "name": "conda-env-deeznuts-py"
  },
  "language_info": {
   "codemirror_mode": {
    "name": "ipython",
    "version": 3
   },
   "file_extension": ".py",
   "mimetype": "text/x-python",
   "name": "python",
   "nbconvert_exporter": "python",
   "pygments_lexer": "ipython3",
   "version": "3.11.8"
  }
 },
 "nbformat": 4,
 "nbformat_minor": 4
}
