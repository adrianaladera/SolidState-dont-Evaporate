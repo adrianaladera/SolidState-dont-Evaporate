{
 "cells": [
  {
   "cell_type": "code",
   "execution_count": 1,
   "id": "52ccc000-7409-4a49-89ad-a9716944af51",
   "metadata": {},
   "outputs": [],
   "source": [
    "from pymatgen.core.structure import Structure\n"
   ]
  },
  {
   "cell_type": "code",
   "execution_count": null,
   "id": "1b6b0fb3-25d9-4534-9101-4a74ff434a19",
   "metadata": {},
   "outputs": [],
   "source": [
    "root = \"/Users/adrianaladera/Desktop/MIT/research/MOChAs/original_structures/glu3_rtr/glu3_rtr_with_H_FINAL.vasp\"\n",
    "yourmom = Structure.from_file(\"{}\")"
   ]
  }
 ],
 "metadata": {
  "kernelspec": {
   "display_name": "Python [conda env:deeznuts] *",
   "language": "python",
   "name": "conda-env-deeznuts-py"
  },
  "language_info": {
   "codemirror_mode": {
    "name": "ipython",
    "version": 3
   },
   "file_extension": ".py",
   "mimetype": "text/x-python",
   "name": "python",
   "nbconvert_exporter": "python",
   "pygments_lexer": "ipython3",
   "version": "3.11.8"
  }
 },
 "nbformat": 4,
 "nbformat_minor": 5
}
