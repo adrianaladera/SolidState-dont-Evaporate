{
 "cells": [
  {
   "attachments": {},
   "cell_type": "markdown",
   "metadata": {},
   "source": [
    "# VASP Preprocessing\n",
    "\n",
    "### By Adriana J. Ladera\n",
    "### MIT, Center for Computational Science and Engineering\n",
    "\n",
    "Notebook to create the VASP input files (POTCAR, KPOINTS, INCAR) given a POSCAR or .vasp file. This POSCAR or .vasp file is your structure! :D\n",
    "\n",
    "- Source for all functions used in this notebook are in [VaspPreprocess](https://github.com/adrianaladera/SolidState-dont-Evaporate/blob/main/utils/VaspPreprocess.py)\n",
    "\n",
    "- Full documentation of all VASP INCAR tages are found [here](https://www.vasp.at/wiki/index.php/Category:INCAR_tag)\n",
    "\n",
    "NOTE: The energy cutoff INCAR tag (ENCUT), is defined by:\n",
    "\n",
    "- $1.3 \\times$ max([list of all ENMAX and ENMIN])\n",
    "\n",
    "where ENMAX and ENMIN are defined in the POTCAR file. In most cases, this is sufficient to achieve an appropriate ENCUT."
   ]
  },
  {
   "cell_type": "code",
   "execution_count": null,
   "metadata": {},
   "outputs": [],
   "source": [
    "import os\n",
    "os.chdir(\"/Users/adrianaladera/Desktop/MIT/research/SolidState-dont-Evaporate/\")\n",
    "\n",
    "from utils import VaspPreprocess\n",
    "from utils.packages import *"
   ]
  },
  {
   "attachments": {},
   "cell_type": "markdown",
   "metadata": {},
   "source": [
    "## Making relax/ directory based on the POSCAR in the main directory\n",
    "\n",
    "VASP can relax a structure, i.e. minimize the total energy of the given system or minimize the forces per atom on the system using Density Functional Theory (DFT).\n",
    "\n",
    "In this example, a relax/ directory is created and the VASP input files are created based on the path where the POSCAR or .vasp file is stored. \n",
    "\n",
    "The resulting tree will look like this:\n",
    "\n",
    "    - original/path/to/POSCAR\n",
    "    |\n",
    "    |-- relax\n",
    "        |- POSCAR\n",
    "        |- POTCAR\n",
    "        |- KPOINTS\n",
    "        |- INCAR\n",
    "\n",
    "The following INCAR tags for this example are set:\n",
    "- `ISIF = 2` # relaxes the atomic positions but not cell shape or volume\n",
    "- `NSW = 80` # maximum number of ionic steps\n",
    "- `IBRION = 2` # relaxes ions/atoms using the conjugate gradient algorithm\n",
    "- `IVDW = 11` #  DFT-D3 method of Grimme with zero-damping function\n",
    "\n",
    "If you want to relax your structure, execute the following cell."
   ]
  },
  {
   "cell_type": "code",
   "execution_count": 4,
   "metadata": {},
   "outputs": [
    {
     "name": "stdout",
     "output_type": "stream",
     "text": [
      "Regular KPOINTS written\n",
      "POTCAR written\n",
      "   ENMAX  =  249.844; ENMIN  =  187.383 eV\n",
      "   ENMAX  =  258.689; ENMIN  =  194.016 eV\n",
      "   ENMAX  =  400.000; ENMIN  =  300.000 eV\n",
      "   ENMAX  =  250.000; ENMIN  =  200.000 eV\n",
      "   ENMAX  =  400.000; ENMIN  =  300.000 eV\n",
      "Relaxation INCAR written\n"
     ]
    }
   ],
   "source": [
    "# path to where your POSCAR is stored; don't include the name of the POSCAR\n",
    "path = \"/Users/adrianaladera/Desktop/yourmom/glu3_rtr_example_preprocess\"\n",
    "filename = \"POSCAR\"\n",
    "\n",
    "# creating directories\n",
    "if not os.path.exists(f\"{path}/relax\"):\n",
    "    os.mkdir(f\"{path}/relax\")\n",
    "if not os.path.exists(f\"{path}/scf\"):\n",
    "    os.mkdir(f\"{path}/scf\")\n",
    "\n",
    "# renames filename to POSCAR for VASP input\n",
    "os.system(f\"cp {path}/{filename} {path}/relax/POSCAR\")\n",
    "print(f\"{filename} copied to relax/POSCAR\")\n",
    "\n",
    "structure = Structure.from_file(f\"{path}/relax/POSCAR\")\n",
    "VaspPreprocess.regular_kpoints(f\"{path}/relax/\", structure)\n",
    "VaspPreprocess.make_potcar(f\"{path}/relax/\")\n",
    "VaspPreprocess.relax_incar(f\"{path}/relax/\", isif=2, nsw=80, ibrion=2, isym=2, ivdw=11) # checks to see if POTCAR exists, then creates INCAR if True\n"
   ]
  },
  {
   "attachments": {},
   "cell_type": "markdown",
   "metadata": {},
   "source": [
    "## Make a self-consistent field (SCF) folder either from a relaxed structure or an initial structure\n",
    "\n",
    "You can get the energetics from a static calculation (SCF) after relaxing a structure, or if you want to get the energetics of a structure even without relaxing.\n",
    "\n",
    "The resulting tree will look like this:\n",
    "\n",
    "    - original/path/to/POSCAR\n",
    "    |\n",
    "    |-- relax\n",
    "    |-- scf\n",
    "        |- POSCAR\n",
    "        |- POTCAR\n",
    "        |- KPOINTS\n",
    "        |- INCAR\n",
    "\n",
    "IMPORTANT: must choose the correct file for which you want to run an SCF calculation. Be sure that if you want to run an SCF on a relaxed structure, you are copying the final CONTCAR from the relax/ folder into the SCF folder!"
   ]
  },
  {
   "cell_type": "code",
   "execution_count": 6,
   "metadata": {},
   "outputs": [
    {
     "name": "stdout",
     "output_type": "stream",
     "text": [
      "POSCAR copied to scf/POSCAR\n",
      "Regular KPOINTS written\n",
      "POTCAR written\n",
      "   ENMAX  =  249.844; ENMIN  =  187.383 eV\n",
      "   ENMAX  =  258.689; ENMIN  =  194.016 eV\n",
      "   ENMAX  =  400.000; ENMIN  =  300.000 eV\n",
      "   ENMAX  =  250.000; ENMIN  =  200.000 eV\n",
      "   ENMAX  =  400.000; ENMIN  =  300.000 eV\n",
      "Self-consistent field (SCF) INCAR written\n"
     ]
    }
   ],
   "source": [
    "# is your structure relaxed? True if so, False if not (you just want a static calculation)\n",
    "isrelaxed = False\n",
    "\n",
    "if not os.path.exists(f\"{path}/scf\"):\n",
    "    os.mkdir(f\"{path}/scf\")\n",
    "\n",
    "if isrelaxed:\n",
    "    os.system(f\"cp {path}/relax/CONTCAR {path}/scf/POSCAR\")\n",
    "    print(f\"relax/CONTCAR copied to scf/POSCAR\")\n",
    "else:\n",
    "    os.system(f\"cp {path}/{filename} {path}/scf/POSCAR\")\n",
    "    print(f\"{filename} copied to scf/POSCAR\")\n",
    "\n",
    "structure = Structure.from_file(f\"{path}/scf/POSCAR\")\n",
    "VaspPreprocess.regular_kpoints(f\"{path}/scf/\", structure)\n",
    "VaspPreprocess.make_potcar(f\"{path}/scf/\")\n",
    "VaspPreprocess.scf_incar(f\"{path}/scf/\") # checks to see if POTCAR exists, then creates INCAR if True"
   ]
  },
  {
   "attachments": {},
   "cell_type": "markdown",
   "metadata": {},
   "source": [
    "## Electronic Structure Preprocessing\n",
    "\n",
    "Electronic structure calculations include Density of States (DOS), and the band structure. \n",
    "\n",
    "Resulting tree will look like this:\n",
    "\n",
    "    - original/path/to/POSCAR\n",
    "    |\n",
    "    |-- relax\n",
    "    |-- scf\n",
    "    |-- dos\n",
    "        |- POSCAR\n",
    "        |- POTCAR\n",
    "        |- KPOINTS\n",
    "        |- INCAR\n",
    "        |- CHGCAR\n",
    "    |-- band\n",
    "        |- POSCAR\n",
    "        |- POTCAR\n",
    "        |- KPOINTS\n",
    "        |- INCAR\n",
    "        \n",
    "The default functional is PBE in VASP. To use hybrid functionals (in this example, B3LYP), additional parameters have been added to the dos_incar() and band_incar() functions. B3LYP can be used simply by setting `ishybrid=True`."
   ]
  },
  {
   "cell_type": "code",
   "execution_count": 10,
   "metadata": {},
   "outputs": [
    {
     "name": "stdout",
     "output_type": "stream",
     "text": [
      "Band KPOINTS written for default functional (PBE)\n",
      "POTCAR written\n",
      "/Users/adrianaladera/Desktop/yourmom/galac_rtr_example/mocha_preprocess/scf_band/POTCAR/POTCAR does not exist.\n",
      "   ENMAX  =  249.844; ENMIN  =  187.383 eV\n",
      "   ENMAX  =  250.000; ENMIN  =  200.000 eV\n",
      "   ENMAX  =  400.000; ENMIN  =  300.000 eV\n",
      "   ENMAX  =  258.689; ENMIN  =  194.016 eV\n",
      "   ENMAX  =  400.000; ENMIN  =  300.000 eV\n",
      "Band INCAR written\n",
      "POTCAR written\n",
      "   ENMAX  =  250.000; ENMIN  =  200.000 eV\n",
      "   ENMAX  =  400.000; ENMIN  =  300.000 eV\n",
      "   ENMAX  =  400.000; ENMIN  =  300.000 eV\n",
      "   ENMAX  =  258.689; ENMIN  =  194.016 eV\n",
      "   ENMAX  =  249.844; ENMIN  =  187.383 eV\n",
      "Density of States INCAR written\n",
      "POTCAR, POSCAR, KPOINTS, CHGCAR copied from scf/ to dos/\n"
     ]
    }
   ],
   "source": [
    "# if true, then a hybrid functional (B3LYP) is used for the DOS and band calculations\n",
    "ishybrid = True\n",
    "\n",
    "root = \"/Users/adrianaladera/Desktop/yourmom/galac_rtr_example/mocha_preprocess\"\n",
    "potcar = f\"{root}/scf/POTCAR\"\n",
    "structure = Structure.from_file(f\"{root}/scf/POSCAR\")\n",
    "\n",
    "VaspPreprocess.band_kpoints(structure, root) # creates the band/ and scf_band/ directories and primitive cells\n",
    "VaspPreprocess.make_potcar(f\"{root}/scf_band/\")\n",
    "VaspPreprocess.scf_incar(f\"{root}/scf_band/POTCAR\", f\"{root}/scf_band\")\n",
    "\n",
    "VaspPreprocess.band_incar(f\"{root}/scf_band/POTCAR\", f\"{root}/band\", ishybrid=ishybrid)\n",
    "VaspPreprocess.make_potcar(f\"{root}/band/\")\n",
    "\n",
    "VaspPreprocess.dos_incar(f\"{root}/scf/POTCAR\", f\"{root}/\", ishybrid=ishybrid) # creates dos/ directory\n",
    "if os.path.exists(f\"{root}/scf/CHGCAR\"):\n",
    "    os.system(f\"cp {root}/scf/POTCAR {root}/scf/POSCAR {root}/scf/CHGCAR {root}/scf/KPOINTS {root}/dos\")\n",
    "    print(\"POTCAR, POSCAR, KPOINTS, and CHGCAR copied from scf/ to dos/\")\n",
    "else:\n",
    "    print(\"POTCAR, POSCAR, and KPOINTS copied from scf/ to dos/.\\nWARNING: CHGCAR not copied because CHGCAR was not found.\")"
   ]
  },
  {
   "cell_type": "code",
   "execution_count": null,
   "metadata": {},
   "outputs": [],
   "source": []
  }
 ],
 "metadata": {
  "kernelspec": {
   "display_name": "deeznuts",
   "language": "python",
   "name": "python3"
  },
  "language_info": {
   "codemirror_mode": {
    "name": "ipython",
    "version": 3
   },
   "file_extension": ".py",
   "mimetype": "text/x-python",
   "name": "python",
   "nbconvert_exporter": "python",
   "pygments_lexer": "ipython3",
   "version": "3.11.6"
  },
  "orig_nbformat": 4
 },
 "nbformat": 4,
 "nbformat_minor": 2
}
