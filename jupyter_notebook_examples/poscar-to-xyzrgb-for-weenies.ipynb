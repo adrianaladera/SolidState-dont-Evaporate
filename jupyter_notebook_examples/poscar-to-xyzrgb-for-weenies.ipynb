{
 "cells": [
  {
   "cell_type": "markdown",
   "metadata": {},
   "source": [
    "## Importing libraries and shihh"
   ]
  },
  {
   "cell_type": "code",
   "execution_count": 1,
   "metadata": {},
   "outputs": [],
   "source": [
    "import os\n",
    "os.chdir(\"/Users/adrianaladera/Desktop/MIT/research/SolidState-dont-Evaporate/\")\n",
    "\n",
    "from utils import POSCARtoXYZRGB, ModifyStructure"
   ]
  },
  {
   "attachments": {},
   "cell_type": "markdown",
   "metadata": {},
   "source": [
    "## Convert POSCAR to points file for Rhino\n",
    "-**poscar_to_xyz_rgb()**:\n",
    "    Converts a VASP file into a .xyz readable points file for Rhino, with elements\n",
    "        mapped to RGB values\n",
    "- **species_to_rgb()**: helper function for mapping POSCAR species into Rhino readable RGB values"
   ]
  },
  {
   "cell_type": "code",
   "execution_count": 3,
   "metadata": {},
   "outputs": [
    {
     "name": "stdout",
     "output_type": "stream",
     "text": [
      "\n",
      "Converted POSCAR to XYZRGB points file\n",
      "Written to: \n",
      "/Users/adrianaladera/Desktop/MIT/research/mochas/VASP_calculations/sugar_mochas/glu3_rtr_dehydrated/2ISIF/scf//xyz-rgb-points.xyz\n"
     ]
    }
   ],
   "source": [
    "root = \"/Users/adrianaladera/Desktop/MIT/research/mochas/VASP_calculations/sugar_mochas/glu3_rtr_dehydrated/2ISIF/scf/\"\n",
    "file = \"POSCAR\"\n",
    "POSCARtoXYZRGB.poscar_to_xyz_rgb(root, file)"
   ]
  },
  {
   "attachments": {},
   "cell_type": "markdown",
   "metadata": {},
   "source": [
    "## Convert Rhino points file to POSCAR.vasp\n",
    "\n",
    "### Save finished Rhino points file in the rhino_structure_design folder\n",
    "\n",
    "- **xyz_rgb_to_poscar()**: Converts a Rhino .txt readable points back into an .xyz file, with RGB values\n",
    "        mapped to back to elements\n",
    "- **modify_lattice():**\n",
    "    Updates the unit cell of the current .xyz file and saves in .vasp format\n",
    "- **rgb_to_species()**:\n",
    "    '''Converts rgb values of Rhino points into POSCAR readable species"
   ]
  },
  {
   "cell_type": "code",
   "execution_count": 5,
   "metadata": {},
   "outputs": [
    {
     "name": "stdout",
     "output_type": "stream",
     "text": [
      "\n",
      "File already exists. Rewriting now...\n",
      "Converting text file to XYZ readable molecule file\n",
      "Written to /Users/adrianaladera/Desktop/MIT/research/mochas/VASP_calculations/fluorescent_1D/refined_structures_Dan/glucose_dehydrated_v2/glucose_dehydrated_v2_ligands_FINAL.xyz\n",
      "[None]\n",
      "Total: 205\n",
      "Total with duplicates removed: 0\n",
      "Updating unit cell of glucose_dehydrated_v2_ligands_FINAL.xyz and writing to *.vasp\n",
      "\n",
      "Written to:\n",
      "\n",
      "/Users/adrianaladera/Desktop/MIT/research/mochas/VASP_calculations/fluorescent_1D/refined_structures_Dan/glucose_dehydrated_v2/glucose_dehydrated_v2_ligands_FINAL.vasp\n"
     ]
    }
   ],
   "source": [
    "file = \"glucose_dehydrated_v2_ligands\"\n",
    "dest = \"/Users/adrianaladera/Desktop/MIT/research/mochas/VASP_calculations/fluorescent_1D/refined_structures_Dan/glucose_dehydrated_v2/\"\n",
    "lattice_path = f\"{dest}/POSCAR\" \n",
    "extension = \".txt\"\n",
    "\n",
    "POSCARtoXYZRGB.xyz_rgb_to_poscar(dest, dest, file, extension)\n",
    "\n",
    "from pymatgen.core.structure import Structure\n",
    "lattice = Structure.from_file(lattice_path).lattice.matrix\n",
    "write_path = ModifyStructure.modify_lattice(dest, dest, f\"{file}_FINAL.xyz\", lattice)\n",
    " "
   ]
  },
  {
   "cell_type": "code",
   "execution_count": 65,
   "metadata": {},
   "outputs": [
    {
     "data": {
      "text/plain": [
       "2"
      ]
     },
     "execution_count": 65,
     "metadata": {},
     "output_type": "execute_result"
    }
   ],
   "source": [
    "lattice = [[0,1,1],[0,1,1],[0,1,1]]\n",
    "# lattice = [0,1,1,1,1,1]\n",
    "\n",
    "len(np.array(lattice).shape)"
   ]
  },
  {
   "cell_type": "code",
   "execution_count": null,
   "metadata": {},
   "outputs": [],
   "source": []
  }
 ],
 "metadata": {
  "kernelspec": {
   "display_name": "deeznuts",
   "language": "python",
   "name": "python3"
  },
  "language_info": {
   "codemirror_mode": {
    "name": "ipython",
    "version": 3
   },
   "file_extension": ".py",
   "mimetype": "text/x-python",
   "name": "python",
   "nbconvert_exporter": "python",
   "pygments_lexer": "ipython3",
   "version": "3.11.6"
  }
 },
 "nbformat": 4,
 "nbformat_minor": 4
}
